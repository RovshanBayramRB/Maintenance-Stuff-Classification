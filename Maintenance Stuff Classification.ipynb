{
  "cells": [
    {
      "cell_type": "code",
      "execution_count": null,
      "metadata": {
        "colab": {
          "base_uri": "https://localhost:8080/"
        },
        "id": "Bs7jaHBYOGzk",
        "outputId": "c55a86b7-f886-402f-aa68-6fd8e4ad10e7"
      },
      "outputs": [
        {
          "name": "stdout",
          "output_type": "stream",
          "text": [
            "Mounted at /content/gdrive\n"
          ]
        }
      ],
      "source": [
        "#Mounting at drive for accessing dataset\n",
        "from google.colab import drive\n",
        "drive.mount('/content/gdrive')"
      ]
    },
    {
      "cell_type": "code",
      "execution_count": null,
      "metadata": {
        "colab": {
          "base_uri": "https://localhost:8080/"
        },
        "id": "sSppeAl4_FAA",
        "outputId": "a63060f1-2367-462e-ff9d-8ed4e1e15760"
      },
      "outputs": [
        {
          "name": "stdout",
          "output_type": "stream",
          "text": [
            "Extracting all the files now...\n",
            "Done!\n"
          ]
        }
      ],
      "source": [
        "#Unzipping dataset\n",
        "\n",
        "#Importing required module which is ZipFile\n",
        "from zipfile import ZipFile\n",
        "\n",
        "#Specifying the zip file name to unzip\n",
        "file_name = \"/content/gdrive/MyDrive/Project AI 31 Dec 23.59/1. Classification/Dataset.zip\"\n",
        "\n",
        "#Opening the zip file in READ mode\n",
        "with ZipFile(file_name, 'r') as zipfile:\n",
        "    #Extracting all the files\n",
        "    print('Extracting all the files now...')\n",
        "    zipfile.extractall()\n",
        "    print('Done!')"
      ]
    },
    {
      "cell_type": "code",
      "execution_count": null,
      "metadata": {
        "id": "RJNFjqswOOoy"
      },
      "outputs": [],
      "source": [
        "#Importing all the necessary libraries for modeling\n",
        "import tensorflow as tf\n",
        "from tensorflow import keras\n",
        "from tensorflow.keras.preprocessing.image import ImageDataGenerator\n",
        "from tensorflow.keras.layers import Flatten, Dense, Dropout\n",
        "from tensorflow.keras.optimizers import Adam\n",
        "from tensorflow.keras.applications import MobileNet\n",
        "from tensorflow.keras import Model\n",
        "from tensorflow.keras.callbacks import ModelCheckpoint, EarlyStopping\n",
        "from tensorflow.keras.models import load_model\n",
        "import matplotlib.pyplot as plt\n",
        "import seaborn as sns\n",
        "import numpy as np\n",
        "from sklearn.metrics import confusion_matrix"
      ]
    },
    {
      "cell_type": "code",
      "execution_count": null,
      "metadata": {
        "id": "gl-XrFZ2RlBa"
      },
      "outputs": [],
      "source": [
        "#Using ImageDataGenerator, creating train and validation generators. We have 2 generator because we need to divide the data\n",
        "#into 2 different parts for making evaluation process easy, too.\n",
        "train_img_gen = ImageDataGenerator(rescale = 1./255., \n",
        "                                   horizontal_flip = True,\n",
        "                                   vertical_flip = True,\n",
        "                                   rotation_range = 90, \n",
        "                                   validation_split = 0.2)\n",
        "\n",
        "validation_img_gen = ImageDataGenerator(rescale = 1./255., \n",
        "                                        validation_split = 0.2)"
      ]
    },
    {
      "cell_type": "code",
      "execution_count": null,
      "metadata": {
        "colab": {
          "base_uri": "https://localhost:8080/"
        },
        "id": "7wwP9Ru9anHR",
        "outputId": "744eddf5-1068-4a6f-ee1d-ad68c6c017f5"
      },
      "outputs": [
        {
          "name": "stdout",
          "output_type": "stream",
          "text": [
            "Found 2400 images belonging to 6 classes.\n",
            "Found 600 images belonging to 6 classes.\n"
          ]
        }
      ],
      "source": [
        "#Here, ew give data path and other usefull parameters to our generators using flow_from_directory function, because\n",
        "#our data are stored in folders\n",
        "train_flow = train_img_gen.flow_from_directory(directory = \"/content/Dataset/Nouveau dossier\", \n",
        "                               target_size = (227, 227), \n",
        "                               color_mode = \"rgb\",\n",
        "                               class_mode = \"categorical\",\n",
        "                               batch_size = 32, \n",
        "                               seed = 2,\n",
        "                               subset  = \"training\")\n",
        "\n",
        "validation_flow = validation_img_gen.flow_from_directory(directory = \"/content/Dataset/Nouveau dossier\", \n",
        "                               target_size = (227, 227), \n",
        "                               color_mode = \"rgb\",\n",
        "                               class_mode = \"categorical\",\n",
        "                               batch_size = 32, \n",
        "                               seed = 2, \n",
        "                               subset  = \"validation\")"
      ]
    },
    {
      "cell_type": "code",
      "execution_count": null,
      "metadata": {
        "colab": {
          "base_uri": "https://localhost:8080/"
        },
        "id": "vZctpUd4474s",
        "outputId": "4f4ac375-783d-4197-df21-9244f70e4273"
      },
      "outputs": [
        {
          "name": "stdout",
          "output_type": "stream",
          "text": [
            "WARNING:tensorflow:`input_shape` is undefined or non-square, or `rows` is not in [128, 160, 192, 224]. Weights for input shape (224, 224) will be loaded as the default.\n",
            "Downloading data from https://storage.googleapis.com/tensorflow/keras-applications/mobilenet/mobilenet_1_0_224_tf_no_top.h5\n",
            "17227776/17225924 [==============================] - 0s 0us/step\n",
            "17235968/17225924 [==============================] - 0s 0us/step\n"
          ]
        }
      ],
      "source": [
        "#After data preparation stage is complete, we go for modeling.\n",
        "#For modeling, we use Transfer Learning using the architecture of MobileNet Neural Network which is built-in model from keras.applications \n",
        "#with the weights of imagenet.\n",
        "\n",
        "model_Mobile = MobileNet(weights = \"imagenet\", \n",
        "                 include_top = False,\n",
        "                 input_shape = (227, 227, 3))\n",
        "\n",
        "x = model_Mobile.output\n",
        "x = Flatten()(x)\n",
        "x = Dense(32, activation = \"relu\")(x)\n",
        "x = Dropout(0.3)(x)\n",
        "x = Dense(32, activation = \"relu\")(x)\n",
        "x = Dropout(0.2)(x)\n",
        "out_layer = Dense(6, activation = \"softmax\")(x)\n",
        "my_model = Model(inputs = model_Mobile.input, \n",
        "                 outputs = out_layer)"
      ]
    },
    {
      "cell_type": "code",
      "execution_count": null,
      "metadata": {
        "colab": {
          "base_uri": "https://localhost:8080/"
        },
        "id": "H60dDqH9WMmU",
        "outputId": "38ce30c5-13bc-43ca-dac4-f7e7215c3284"
      },
      "outputs": [
        {
          "name": "stdout",
          "output_type": "stream",
          "text": [
            "Model: \"model\"\n",
            "_________________________________________________________________\n",
            " Layer (type)                Output Shape              Param #   \n",
            "=================================================================\n",
            " input_1 (InputLayer)        [(None, 227, 227, 3)]     0         \n",
            "                                                                 \n",
            " conv1 (Conv2D)              (None, 114, 114, 32)      864       \n",
            "                                                                 \n",
            " conv1_bn (BatchNormalizatio  (None, 114, 114, 32)     128       \n",
            " n)                                                              \n",
            "                                                                 \n",
            " conv1_relu (ReLU)           (None, 114, 114, 32)      0         \n",
            "                                                                 \n",
            " conv_dw_1 (DepthwiseConv2D)  (None, 114, 114, 32)     288       \n",
            "                                                                 \n",
            " conv_dw_1_bn (BatchNormaliz  (None, 114, 114, 32)     128       \n",
            " ation)                                                          \n",
            "                                                                 \n",
            " conv_dw_1_relu (ReLU)       (None, 114, 114, 32)      0         \n",
            "                                                                 \n",
            " conv_pw_1 (Conv2D)          (None, 114, 114, 64)      2048      \n",
            "                                                                 \n",
            " conv_pw_1_bn (BatchNormaliz  (None, 114, 114, 64)     256       \n",
            " ation)                                                          \n",
            "                                                                 \n",
            " conv_pw_1_relu (ReLU)       (None, 114, 114, 64)      0         \n",
            "                                                                 \n",
            " conv_pad_2 (ZeroPadding2D)  (None, 115, 115, 64)      0         \n",
            "                                                                 \n",
            " conv_dw_2 (DepthwiseConv2D)  (None, 57, 57, 64)       576       \n",
            "                                                                 \n",
            " conv_dw_2_bn (BatchNormaliz  (None, 57, 57, 64)       256       \n",
            " ation)                                                          \n",
            "                                                                 \n",
            " conv_dw_2_relu (ReLU)       (None, 57, 57, 64)        0         \n",
            "                                                                 \n",
            " conv_pw_2 (Conv2D)          (None, 57, 57, 128)       8192      \n",
            "                                                                 \n",
            " conv_pw_2_bn (BatchNormaliz  (None, 57, 57, 128)      512       \n",
            " ation)                                                          \n",
            "                                                                 \n",
            " conv_pw_2_relu (ReLU)       (None, 57, 57, 128)       0         \n",
            "                                                                 \n",
            " conv_dw_3 (DepthwiseConv2D)  (None, 57, 57, 128)      1152      \n",
            "                                                                 \n",
            " conv_dw_3_bn (BatchNormaliz  (None, 57, 57, 128)      512       \n",
            " ation)                                                          \n",
            "                                                                 \n",
            " conv_dw_3_relu (ReLU)       (None, 57, 57, 128)       0         \n",
            "                                                                 \n",
            " conv_pw_3 (Conv2D)          (None, 57, 57, 128)       16384     \n",
            "                                                                 \n",
            " conv_pw_3_bn (BatchNormaliz  (None, 57, 57, 128)      512       \n",
            " ation)                                                          \n",
            "                                                                 \n",
            " conv_pw_3_relu (ReLU)       (None, 57, 57, 128)       0         \n",
            "                                                                 \n",
            " conv_pad_4 (ZeroPadding2D)  (None, 58, 58, 128)       0         \n",
            "                                                                 \n",
            " conv_dw_4 (DepthwiseConv2D)  (None, 28, 28, 128)      1152      \n",
            "                                                                 \n",
            " conv_dw_4_bn (BatchNormaliz  (None, 28, 28, 128)      512       \n",
            " ation)                                                          \n",
            "                                                                 \n",
            " conv_dw_4_relu (ReLU)       (None, 28, 28, 128)       0         \n",
            "                                                                 \n",
            " conv_pw_4 (Conv2D)          (None, 28, 28, 256)       32768     \n",
            "                                                                 \n",
            " conv_pw_4_bn (BatchNormaliz  (None, 28, 28, 256)      1024      \n",
            " ation)                                                          \n",
            "                                                                 \n",
            " conv_pw_4_relu (ReLU)       (None, 28, 28, 256)       0         \n",
            "                                                                 \n",
            " conv_dw_5 (DepthwiseConv2D)  (None, 28, 28, 256)      2304      \n",
            "                                                                 \n",
            " conv_dw_5_bn (BatchNormaliz  (None, 28, 28, 256)      1024      \n",
            " ation)                                                          \n",
            "                                                                 \n",
            " conv_dw_5_relu (ReLU)       (None, 28, 28, 256)       0         \n",
            "                                                                 \n",
            " conv_pw_5 (Conv2D)          (None, 28, 28, 256)       65536     \n",
            "                                                                 \n",
            " conv_pw_5_bn (BatchNormaliz  (None, 28, 28, 256)      1024      \n",
            " ation)                                                          \n",
            "                                                                 \n",
            " conv_pw_5_relu (ReLU)       (None, 28, 28, 256)       0         \n",
            "                                                                 \n",
            " conv_pad_6 (ZeroPadding2D)  (None, 29, 29, 256)       0         \n",
            "                                                                 \n",
            " conv_dw_6 (DepthwiseConv2D)  (None, 14, 14, 256)      2304      \n",
            "                                                                 \n",
            " conv_dw_6_bn (BatchNormaliz  (None, 14, 14, 256)      1024      \n",
            " ation)                                                          \n",
            "                                                                 \n",
            " conv_dw_6_relu (ReLU)       (None, 14, 14, 256)       0         \n",
            "                                                                 \n",
            " conv_pw_6 (Conv2D)          (None, 14, 14, 512)       131072    \n",
            "                                                                 \n",
            " conv_pw_6_bn (BatchNormaliz  (None, 14, 14, 512)      2048      \n",
            " ation)                                                          \n",
            "                                                                 \n",
            " conv_pw_6_relu (ReLU)       (None, 14, 14, 512)       0         \n",
            "                                                                 \n",
            " conv_dw_7 (DepthwiseConv2D)  (None, 14, 14, 512)      4608      \n",
            "                                                                 \n",
            " conv_dw_7_bn (BatchNormaliz  (None, 14, 14, 512)      2048      \n",
            " ation)                                                          \n",
            "                                                                 \n",
            " conv_dw_7_relu (ReLU)       (None, 14, 14, 512)       0         \n",
            "                                                                 \n",
            " conv_pw_7 (Conv2D)          (None, 14, 14, 512)       262144    \n",
            "                                                                 \n",
            " conv_pw_7_bn (BatchNormaliz  (None, 14, 14, 512)      2048      \n",
            " ation)                                                          \n",
            "                                                                 \n",
            " conv_pw_7_relu (ReLU)       (None, 14, 14, 512)       0         \n",
            "                                                                 \n",
            " conv_dw_8 (DepthwiseConv2D)  (None, 14, 14, 512)      4608      \n",
            "                                                                 \n",
            " conv_dw_8_bn (BatchNormaliz  (None, 14, 14, 512)      2048      \n",
            " ation)                                                          \n",
            "                                                                 \n",
            " conv_dw_8_relu (ReLU)       (None, 14, 14, 512)       0         \n",
            "                                                                 \n",
            " conv_pw_8 (Conv2D)          (None, 14, 14, 512)       262144    \n",
            "                                                                 \n",
            " conv_pw_8_bn (BatchNormaliz  (None, 14, 14, 512)      2048      \n",
            " ation)                                                          \n",
            "                                                                 \n",
            " conv_pw_8_relu (ReLU)       (None, 14, 14, 512)       0         \n",
            "                                                                 \n",
            " conv_dw_9 (DepthwiseConv2D)  (None, 14, 14, 512)      4608      \n",
            "                                                                 \n",
            " conv_dw_9_bn (BatchNormaliz  (None, 14, 14, 512)      2048      \n",
            " ation)                                                          \n",
            "                                                                 \n",
            " conv_dw_9_relu (ReLU)       (None, 14, 14, 512)       0         \n",
            "                                                                 \n",
            " conv_pw_9 (Conv2D)          (None, 14, 14, 512)       262144    \n",
            "                                                                 \n",
            " conv_pw_9_bn (BatchNormaliz  (None, 14, 14, 512)      2048      \n",
            " ation)                                                          \n",
            "                                                                 \n",
            " conv_pw_9_relu (ReLU)       (None, 14, 14, 512)       0         \n",
            "                                                                 \n",
            " conv_dw_10 (DepthwiseConv2D  (None, 14, 14, 512)      4608      \n",
            " )                                                               \n",
            "                                                                 \n",
            " conv_dw_10_bn (BatchNormali  (None, 14, 14, 512)      2048      \n",
            " zation)                                                         \n",
            "                                                                 \n",
            " conv_dw_10_relu (ReLU)      (None, 14, 14, 512)       0         \n",
            "                                                                 \n",
            " conv_pw_10 (Conv2D)         (None, 14, 14, 512)       262144    \n",
            "                                                                 \n",
            " conv_pw_10_bn (BatchNormali  (None, 14, 14, 512)      2048      \n",
            " zation)                                                         \n",
            "                                                                 \n",
            " conv_pw_10_relu (ReLU)      (None, 14, 14, 512)       0         \n",
            "                                                                 \n",
            " conv_dw_11 (DepthwiseConv2D  (None, 14, 14, 512)      4608      \n",
            " )                                                               \n",
            "                                                                 \n",
            " conv_dw_11_bn (BatchNormali  (None, 14, 14, 512)      2048      \n",
            " zation)                                                         \n",
            "                                                                 \n",
            " conv_dw_11_relu (ReLU)      (None, 14, 14, 512)       0         \n",
            "                                                                 \n",
            " conv_pw_11 (Conv2D)         (None, 14, 14, 512)       262144    \n",
            "                                                                 \n",
            " conv_pw_11_bn (BatchNormali  (None, 14, 14, 512)      2048      \n",
            " zation)                                                         \n",
            "                                                                 \n",
            " conv_pw_11_relu (ReLU)      (None, 14, 14, 512)       0         \n",
            "                                                                 \n",
            " conv_pad_12 (ZeroPadding2D)  (None, 15, 15, 512)      0         \n",
            "                                                                 \n",
            " conv_dw_12 (DepthwiseConv2D  (None, 7, 7, 512)        4608      \n",
            " )                                                               \n",
            "                                                                 \n",
            " conv_dw_12_bn (BatchNormali  (None, 7, 7, 512)        2048      \n",
            " zation)                                                         \n",
            "                                                                 \n",
            " conv_dw_12_relu (ReLU)      (None, 7, 7, 512)         0         \n",
            "                                                                 \n",
            " conv_pw_12 (Conv2D)         (None, 7, 7, 1024)        524288    \n",
            "                                                                 \n",
            " conv_pw_12_bn (BatchNormali  (None, 7, 7, 1024)       4096      \n",
            " zation)                                                         \n",
            "                                                                 \n",
            " conv_pw_12_relu (ReLU)      (None, 7, 7, 1024)        0         \n",
            "                                                                 \n",
            " conv_dw_13 (DepthwiseConv2D  (None, 7, 7, 1024)       9216      \n",
            " )                                                               \n",
            "                                                                 \n",
            " conv_dw_13_bn (BatchNormali  (None, 7, 7, 1024)       4096      \n",
            " zation)                                                         \n",
            "                                                                 \n",
            " conv_dw_13_relu (ReLU)      (None, 7, 7, 1024)        0         \n",
            "                                                                 \n",
            " conv_pw_13 (Conv2D)         (None, 7, 7, 1024)        1048576   \n",
            "                                                                 \n",
            " conv_pw_13_bn (BatchNormali  (None, 7, 7, 1024)       4096      \n",
            " zation)                                                         \n",
            "                                                                 \n",
            " conv_pw_13_relu (ReLU)      (None, 7, 7, 1024)        0         \n",
            "                                                                 \n",
            " flatten (Flatten)           (None, 50176)             0         \n",
            "                                                                 \n",
            " dense (Dense)               (None, 32)                1605664   \n",
            "                                                                 \n",
            " dropout (Dropout)           (None, 32)                0         \n",
            "                                                                 \n",
            " dense_1 (Dense)             (None, 32)                1056      \n",
            "                                                                 \n",
            " dropout_1 (Dropout)         (None, 32)                0         \n",
            "                                                                 \n",
            " dense_2 (Dense)             (None, 6)                 198       \n",
            "                                                                 \n",
            "=================================================================\n",
            "Total params: 4,835,782\n",
            "Trainable params: 4,813,894\n",
            "Non-trainable params: 21,888\n",
            "_________________________________________________________________\n"
          ]
        }
      ],
      "source": [
        "#Here is the summary of our model\n",
        "my_model.summary()"
      ]
    },
    {
      "cell_type": "code",
      "execution_count": null,
      "metadata": {
        "id": "VxOjd8pZCSX-",
        "scrolled": true
      },
      "outputs": [],
      "source": [
        "#After, creating our architecture, we need to compile our model with the parameters optimize which is Adam with proper\n",
        "#learning rate. Then, we set loss and metrics for the model\n",
        "my_model.compile(optimizer = Adam(learning_rate = 0.0001), loss = \"categorical_crossentropy\", \n",
        "                 metrics = [\"accuracy\"])"
      ]
    },
    {
      "cell_type": "code",
      "execution_count": null,
      "metadata": {
        "id": "1jOzoZ4nIUk_"
      },
      "outputs": [],
      "source": [
        "#Here, we have 2 callbacks. ModelCheckpoint saves the model during training based on the lowest val_loss value\n",
        "my_check = ModelCheckpoint('BestModel.h5',\n",
        "                           monitor = \"val_loss\",\n",
        "                           mode = 'min',\n",
        "                           save_best_only = True,\n",
        "                           verbose = 1)\n",
        "#EarlyStopping monitors val_loss in order to decide whether to continue training or not based on overfitting. If at some \n",
        "#point the val_loss starts to increase and does not decrease from the current lowest val_loss for the 5 times in a row (patience), \n",
        "#our early stopper will stop the training because it decides that the model overfits the training data and does not seem \n",
        "#to generalize well\n",
        "early_stopper = EarlyStopping(monitor = 'val_loss', \n",
        "                              patience = 5, \n",
        "                              verbose = 1, \n",
        "                              mode = \"min\")"
      ]
    },
    {
      "cell_type": "code",
      "execution_count": null,
      "metadata": {
        "colab": {
          "base_uri": "https://localhost:8080/"
        },
        "id": "vdr8YNKVIYHe",
        "outputId": "97ab2e50-db67-453d-e71d-dd04b8b08da1",
        "scrolled": true
      },
      "outputs": [
        {
          "name": "stdout",
          "output_type": "stream",
          "text": [
            "Epoch 1/20\n",
            "75/75 [==============================] - ETA: 0s - loss: 1.5835 - accuracy: 0.3537\n",
            "Epoch 00001: val_loss improved from inf to 1.17378, saving model to BestModel.h5\n",
            "75/75 [==============================] - 484s 6s/step - loss: 1.5835 - accuracy: 0.3537 - val_loss: 1.1738 - val_accuracy: 0.5767\n",
            "Epoch 2/20\n",
            "75/75 [==============================] - ETA: 0s - loss: 1.1433 - accuracy: 0.5346\n",
            "Epoch 00002: val_loss improved from 1.17378 to 0.85438, saving model to BestModel.h5\n",
            "75/75 [==============================] - 476s 6s/step - loss: 1.1433 - accuracy: 0.5346 - val_loss: 0.8544 - val_accuracy: 0.7550\n",
            "Epoch 3/20\n",
            "75/75 [==============================] - ETA: 0s - loss: 0.9623 - accuracy: 0.6200\n",
            "Epoch 00003: val_loss improved from 0.85438 to 0.64064, saving model to BestModel.h5\n",
            "75/75 [==============================] - 482s 6s/step - loss: 0.9623 - accuracy: 0.6200 - val_loss: 0.6406 - val_accuracy: 0.8433\n",
            "Epoch 4/20\n",
            "75/75 [==============================] - ETA: 0s - loss: 0.8548 - accuracy: 0.6629\n",
            "Epoch 00004: val_loss improved from 0.64064 to 0.61670, saving model to BestModel.h5\n",
            "75/75 [==============================] - 487s 6s/step - loss: 0.8548 - accuracy: 0.6629 - val_loss: 0.6167 - val_accuracy: 0.8650\n",
            "Epoch 5/20\n",
            "75/75 [==============================] - ETA: 0s - loss: 0.7448 - accuracy: 0.6892\n",
            "Epoch 00005: val_loss improved from 0.61670 to 0.48170, saving model to BestModel.h5\n",
            "75/75 [==============================] - 482s 6s/step - loss: 0.7448 - accuracy: 0.6892 - val_loss: 0.4817 - val_accuracy: 0.8850\n",
            "Epoch 6/20\n",
            "75/75 [==============================] - ETA: 0s - loss: 0.6990 - accuracy: 0.7004\n",
            "Epoch 00006: val_loss did not improve from 0.48170\n",
            "75/75 [==============================] - 481s 6s/step - loss: 0.6990 - accuracy: 0.7004 - val_loss: 0.4873 - val_accuracy: 0.8783\n",
            "Epoch 7/20\n",
            "75/75 [==============================] - ETA: 0s - loss: 0.7037 - accuracy: 0.7050\n",
            "Epoch 00007: val_loss did not improve from 0.48170\n",
            "75/75 [==============================] - 480s 6s/step - loss: 0.7037 - accuracy: 0.7050 - val_loss: 0.5057 - val_accuracy: 0.8900\n",
            "Epoch 8/20\n",
            "75/75 [==============================] - ETA: 0s - loss: 0.6118 - accuracy: 0.7467\n",
            "Epoch 00008: val_loss did not improve from 0.48170\n",
            "75/75 [==============================] - 475s 6s/step - loss: 0.6118 - accuracy: 0.7467 - val_loss: 0.5897 - val_accuracy: 0.8883\n",
            "Epoch 9/20\n",
            "75/75 [==============================] - ETA: 0s - loss: 0.5775 - accuracy: 0.7596\n",
            "Epoch 00009: val_loss did not improve from 0.48170\n",
            "75/75 [==============================] - 474s 6s/step - loss: 0.5775 - accuracy: 0.7596 - val_loss: 0.5836 - val_accuracy: 0.8733\n",
            "Epoch 10/20\n",
            "75/75 [==============================] - ETA: 0s - loss: 0.5591 - accuracy: 0.7613\n",
            "Epoch 00010: val_loss did not improve from 0.48170\n",
            "75/75 [==============================] - 474s 6s/step - loss: 0.5591 - accuracy: 0.7613 - val_loss: 0.6507 - val_accuracy: 0.8633\n",
            "Epoch 00010: early stopping\n"
          ]
        }
      ],
      "source": [
        "#At the end, we start model fitting which can also be considered as training process. We set the fitting to variable called \n",
        "#history to use in plotting later\n",
        "history = my_model.fit(train_flow, \n",
        "                     epochs = 20, \n",
        "                     verbose = 1, \n",
        "                     callbacks = [my_check, early_stopper], \n",
        "                     validation_data = validation_flow)"
      ]
    },
    {
      "cell_type": "code",
      "execution_count": null,
      "metadata": {
        "colab": {
          "base_uri": "https://localhost:8080/",
          "height": 295
        },
        "id": "QyaiVZYnIYNZ",
        "outputId": "ade940a8-0fa3-4f24-8932-cdcdc9cd7b67"
      },
      "outputs": [
        {
          "data": {
            "image/png": "[encoded data removed]",
            "text/plain": [
              "<Figure size 432x288 with 1 Axes>"
            ]
          },
          "metadata": {
            "needs_background": "light"
          },
          "output_type": "display_data"
        }
      ],
      "source": [
        "#Plotting Training and Validation Accuracies per epoch\n",
        "plt.plot(history.history['accuracy'])\n",
        "plt.plot(history.history['val_accuracy'])\n",
        "plt.title('Model Accuracy')\n",
        "plt.ylabel('Accuracy')\n",
        "plt.xlabel('Epoch')\n",
        "plt.legend(['Train', 'Validation'], loc = 'upper left')\n",
        "plt.show()"
      ]
    },
    {
      "cell_type": "code",
      "execution_count": null,
      "metadata": {
        "colab": {
          "base_uri": "https://localhost:8080/",
          "height": 295
        },
        "id": "M5MXefmAIYRe",
        "outputId": "98ccc47c-39f4-4020-b7bb-a5a77c541775"
      },
      "outputs": [
        {
          "data": {
            "image/png": "[encoded data removed]",
            "text/plain": [
              "<Figure size 432x288 with 1 Axes>"
            ]
          },
          "metadata": {
            "needs_background": "light"
          },
          "output_type": "display_data"
        }
      ],
      "source": [
        "#Plotting Training and Validation Losses per epoch\n",
        "plt.plot(history.history['loss'])\n",
        "plt.plot(history.history['val_loss'])\n",
        "plt.title('Model Loss')\n",
        "plt.ylabel('Loss')\n",
        "plt.xlabel('Epoch')\n",
        "plt.legend(['Train', 'Validation'], loc = 'upper left')\n",
        "plt.show()"
      ]
    },
    {
      "cell_type": "code",
      "execution_count": null,
      "metadata": {
        "id": "cWpGWkDnXoBl"
      },
      "outputs": [],
      "source": [
        "#For making sure that the saved best model can be loaded and used, I load it to use in generation of confusion matrix\n",
        "loaded_model = load_model('BestModel.h5')"
      ]
    },
    {
      "cell_type": "code",
      "execution_count": null,
      "metadata": {
        "colab": {
          "base_uri": "https://localhost:8080/"
        },
        "id": "eLrjJcJ8XuPH",
        "outputId": "986e33d9-3f6a-45c7-b638-4abf6b54659b"
      },
      "outputs": [
        {
          "name": "stderr",
          "output_type": "stream",
          "text": [
            "/usr/local/lib/python3.7/dist-packages/ipykernel_launcher.py:12: UserWarning: `Model.predict_generator` is deprecated and will be removed in a future version. Please use `Model.predict`, which supports generators.\n",
            "  if sys.path[0] == '':\n"
          ]
        }
      ],
      "source": [
        "#Generating steps for each epoch\n",
        "StepsPerEpoch = np.math.ceil(validation_flow.samples/validation_flow.batch_size)\n",
        "#Making Predictions\n",
        "predictions = loaded_model.predict_generator(validation_flow, steps = StepsPerEpoch)\n",
        "#Making predictions integer number by taking index of maximum value in predictions\n",
        "predicted_classes = np.argmax(predictions, axis = 1)\n",
        "#Getting True Values\n",
        "TrueValues = validation_flow.classes"
      ]
    },
    {
      "cell_type": "code",
      "execution_count": null,
      "metadata": {
        "colab": {
          "base_uri": "https://localhost:8080/"
        },
        "id": "IH1AOyZOXuU8",
        "outputId": "49730a33-0837-4d12-8ddc-23a2beb9011e"
      },
      "outputs": [
        {
          "data": {
            "text/plain": [
              "array([[15, 21, 14, 13, 13, 24],\n",
              "       [13, 13, 14, 21, 22, 17],\n",
              "       [16, 19, 14, 16, 14, 21],\n",
              "       [17, 17, 17, 19, 13, 17],\n",
              "       [16, 21, 13, 18, 13, 19],\n",
              "       [13, 19, 25, 16,  9, 18]])"
            ]
          },
          "execution_count": 104,
          "metadata": {},
          "output_type": "execute_result"
        }
      ],
      "source": [
        "#Printing the confusion matrix using the function of scikit.learn\n",
        "confusion_matrix(TrueValues, predicted_classes)"
      ]
    },
    {
      "cell_type": "code",
      "execution_count": null,
      "metadata": {
        "colab": {
          "base_uri": "https://localhost:8080/",
          "height": 269
        },
        "id": "YJbhM0oiSkGf",
        "outputId": "d97bec99-1d31-4951-de35-a06bc8b4e537"
      },
      "outputs": [
        {
          "data": {
            "image/png": "[encoded data removed]",
            "text/plain": [
              "<Figure size 432x288 with 2 Axes>"
            ]
          },
          "metadata": {
            "needs_background": "light"
          },
          "output_type": "display_data"
        }
      ],
      "source": [
        "#Plotting the confusion matrix using the plot of Seaborn plotting library\n",
        "sns.heatmap(confusion_matrix(TrueValues, predicted_classes), annot = True,  vmin = -1, vmax = 1, center = 0, cmap = \"RdBu_r\")\n",
        "plt.show()"
      ]
    },
    {
      "cell_type": "code",
      "execution_count": null,
      "metadata": {
        "id": "H6900DbSSkJh"
      },
      "outputs": [],
      "source": [
        ""
      ]
    }
  ],
  "metadata": {
    "colab": {
      "collapsed_sections": [],
      "name": "Code.ipynb",
      "provenance": []
    },
    "kernelspec": {
      "display_name": "Python 3",
      "language": "python",
      "name": "python3"
    },
    "language_info": {
      "codemirror_mode": {
        "name": "ipython",
        "version": 3
      },
      "file_extension": ".py",
      "mimetype": "text/x-python",
      "name": "python",
      "nbconvert_exporter": "python",
      "pygments_lexer": "ipython3",
      "version": "3.8.3"
    }
  },
  "nbformat": 4,
  "nbformat_minor": 0
}